{
 "cells": [
  {
   "cell_type": "code",
   "execution_count": 5,
   "id": "d1edf60d",
   "metadata": {},
   "outputs": [],
   "source": [
    "import cv2\n",
    "import os\n",
    "import numpy as np\n"
   ]
  },
  {
   "cell_type": "code",
   "execution_count": 6,
   "id": "52693990",
   "metadata": {},
   "outputs": [],
   "source": [
    "def detect_ball(frame):\n",
    "    hsv_frame = cv2.cvtColor(frame, cv2.COLOR_BGR2HSV)\n",
    "\n",
    "    lower_red = np.array([0, 120, 70])\n",
    "    upper_red = np.array([10, 255, 255])\n",
    "\n",
    "    mask = cv2.inRange(hsv_frame, lower_red, upper_red)\n",
    "\n",
    "    contours, _ = cv2.findContours(mask, cv2.RETR_EXTERNAL, cv2.CHAIN_APPROX_SIMPLE)\n",
    "\n",
    "    if contours:\n",
    "        max_contour = max(contours, key=cv2.contourArea)\n",
    "        x, y, w, h = cv2.boundingRect(max_contour)\n",
    "        return x, y, w, h\n",
    "    else:\n",
    "        return None"
   ]
  },
  {
   "cell_type": "code",
   "execution_count": 7,
   "id": "4985aece",
   "metadata": {},
   "outputs": [],
   "source": [
    "video_path = 'data/v1.mp4'\n",
    "cap = cv2.VideoCapture(video_path)\n",
    "\n",
    "output_dir = 'data/v1'\n",
    "os.makedirs(output_dir, exist_ok=True)\n",
    "\n",
    "frame_count = 0\n",
    "\n",
    "desired_fps = 1\n",
    "\n",
    "frame_skip = int(cap.get(cv2.CAP_PROP_FPS) / desired_fps)"
   ]
  },
  {
   "cell_type": "code",
   "execution_count": 8,
   "id": "8aef3857",
   "metadata": {},
   "outputs": [],
   "source": [
    "while cap.isOpened():\n",
    "    ret, frame = cap.read()\n",
    "    if not ret:\n",
    "        break\n",
    "\n",
    "    if frame_count % frame_skip == 0:\n",
    "        frame_path = os.path.join(output_dir, f\"frame_{frame_count}.jpg\")\n",
    "        cv2.imwrite(frame_path, frame)\n",
    "\n",
    "        ball_coordinates = detect_ball(frame)\n",
    "\n",
    "        if ball_coordinates is not None:\n",
    "            x, y, w, h = ball_coordinates\n",
    "            cv2.rectangle(frame, (x, y), (x+w, y+h), (0, 255, 0), 2)\n",
    "\n",
    "            cv2.imwrite(os.path.join(output_dir, f\"frame_{frame_count}_with_ball.jpg\"), frame)\n",
    "\n",
    "    frame_count += 1\n",
    "\n",
    "cap.release()\n",
    "cv2.destroyAllWindows()\n"
   ]
  },
  {
   "cell_type": "code",
   "execution_count": 11,
   "id": "ab6519a6",
   "metadata": {},
   "outputs": [
    {
     "ename": "error",
     "evalue": "OpenCV(4.9.0) /Users/xperience/GHA-OpenCV-Python2/_work/opencv-python/opencv-python/opencv/modules/dnn/src/dnn_read.cpp:58: error: (-2:Unspecified error) Cannot determine an origin framework of files: yolo_weights_path, yolo_config_path in function 'readNet'\n",
     "output_type": "error",
     "traceback": [
      "\u001b[0;31m---------------------------------------------------------------------------\u001b[0m",
      "\u001b[0;31merror\u001b[0m                                     Traceback (most recent call last)",
      "Cell \u001b[0;32mIn[11], line 1\u001b[0m\n\u001b[0;32m----> 1\u001b[0m net \u001b[38;5;241m=\u001b[39m cv2\u001b[38;5;241m.\u001b[39mdnn\u001b[38;5;241m.\u001b[39mreadNet(\u001b[38;5;124m\"\u001b[39m\u001b[38;5;124myolo_weights_path\u001b[39m\u001b[38;5;124m\"\u001b[39m, \u001b[38;5;124m\"\u001b[39m\u001b[38;5;124myolo_config_path\u001b[39m\u001b[38;5;124m\"\u001b[39m)\n",
      "\u001b[0;31merror\u001b[0m: OpenCV(4.9.0) /Users/xperience/GHA-OpenCV-Python2/_work/opencv-python/opencv-python/opencv/modules/dnn/src/dnn_read.cpp:58: error: (-2:Unspecified error) Cannot determine an origin framework of files: yolo_weights_path, yolo_config_path in function 'readNet'\n"
     ]
    }
   ],
   "source": [
    "net = cv2.dnn.readNet(\"yolo_weights_path\", \"yolo_config_path\")"
   ]
  },
  {
   "cell_type": "code",
   "execution_count": null,
   "id": "38d1c2f0",
   "metadata": {},
   "outputs": [],
   "source": []
  }
 ],
 "metadata": {
  "kernelspec": {
   "display_name": "Python 3 (ipykernel)",
   "language": "python",
   "name": "python3"
  },
  "language_info": {
   "codemirror_mode": {
    "name": "ipython",
    "version": 3
   },
   "file_extension": ".py",
   "mimetype": "text/x-python",
   "name": "python",
   "nbconvert_exporter": "python",
   "pygments_lexer": "ipython3",
   "version": "3.11.5"
  }
 },
 "nbformat": 4,
 "nbformat_minor": 5
}
